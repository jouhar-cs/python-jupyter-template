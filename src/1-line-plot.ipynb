{
 "cells": [
  {
   "cell_type": "markdown",
   "metadata": {},
   "source": [
    "### Exercise 1: Line Plot Customization"
   ]
  },
  {
   "cell_type": "code",
   "execution_count": null,
   "metadata": {},
   "outputs": [],
   "source": [
    "# TASK: Create a line plot with x values ranging from 0 to 10 and y values as the square of x.\n",
    "# Customize the plot by adding a title, labels for both axes, and a grid.\n",
    "import matplotlib.pyplot as plt\n",
    "import numpy as np\n",
    "\n",
    "# Define x and y values\n",
    "x = np.arange(0, 11)  # x values from 0 to 10\n",
    "y = x ** 2  # y values as the square of x\n",
    "\n",
    "# Create the line plot\n",
    "plt.plot(x, y, marker='o', color='blue', label='y = x^2')\n",
    "\n",
    "# Add customization\n",
    "plt.title('Line Plot of y = x^2')  # Title of the plot\n",
    "plt.xlabel('X Values')  # Label for the x-axis\n",
    "plt.ylabel('Y Values')  # Label for the y-axis\n",
    "plt.grid(True)  # Add grid\n",
    "plt.legend()  # Add legend\n",
    "\n",
    "# Display the plot\n",
    "plt.show()\n"
   ]
  }
 ],
 "metadata": {
  "kernelspec": {
   "display_name": "Python 3",
   "language": "python",
   "name": "python3"
  },
  "language_info": {
   "codemirror_mode": {
    "name": "ipython",
    "version": 3
   },
   "file_extension": ".py",
   "mimetype": "text/x-python",
   "name": "python",
   "nbconvert_exporter": "python",
   "pygments_lexer": "ipython3",
   "version": "3.10.12"
  }
 },
 "nbformat": 4,
 "nbformat_minor": 2
}
